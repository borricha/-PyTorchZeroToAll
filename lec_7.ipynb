{
  "nbformat": 4,
  "nbformat_minor": 0,
  "metadata": {
    "colab": {
      "name": "lec_7.ipynb",
      "provenance": [],
      "collapsed_sections": [],
      "authorship_tag": "ABX9TyMdDXqHJfENSmD8z0gHGCxf",
      "include_colab_link": true
    },
    "kernelspec": {
      "name": "python3",
      "display_name": "Python 3"
    },
    "language_info": {
      "name": "python"
    }
  },
  "cells": [
    {
      "cell_type": "markdown",
      "metadata": {
        "id": "view-in-github",
        "colab_type": "text"
      },
      "source": [
        "<a href=\"https://colab.research.google.com/github/borricha/-PyTorchZeroToAll/blob/main/lec_7.ipynb\" target=\"_parent\"><img src=\"https://colab.research.google.com/assets/colab-badge.svg\" alt=\"Open In Colab\"/></a>"
      ]
    },
    {
      "cell_type": "code",
      "metadata": {
        "colab": {
          "base_uri": "https://localhost:8080/"
        },
        "id": "nKt70yHxZAWC",
        "outputId": "39537804-eb2e-483f-d970-f6cc48970e46"
      },
      "source": [
        "import torch\n",
        "from torch.autograd import Variable\n",
        "from torch import nn, optim, from_numpy\n",
        "\n",
        "import numpy as np\n",
        "from google.colab import drive\n",
        "\n",
        "drive.mount('/content/gdrive')\n",
        "\n",
        "xy = np.loadtxt('/content/gdrive/My Drive/Colab Notebooks/diabetes.csv', delimiter=',', dtype=np.float32)\n",
        "x_data = from_numpy(xy[:, 0:-1])\n",
        "y_data = from_numpy(xy[:, [-1]])\n",
        "print(f'X\\'s shape: {x_data.shape} | Y\\'s shape: {y_data.shape}')\n"
      ],
      "execution_count": 20,
      "outputs": [
        {
          "output_type": "stream",
          "text": [
            "Drive already mounted at /content/gdrive; to attempt to forcibly remount, call drive.mount(\"/content/gdrive\", force_remount=True).\n",
            "X's shape: torch.Size([759, 8]) | Y's shape: torch.Size([759, 1])\n"
          ],
          "name": "stdout"
        }
      ]
    },
    {
      "cell_type": "code",
      "metadata": {
        "colab": {
          "base_uri": "https://localhost:8080/"
        },
        "id": "oG0DShs0eNM_",
        "outputId": "ecff02e0-0d4f-4712-bfa2-f16f26ac9b2a"
      },
      "source": [
        "class Model(torch.nn.Module):\n",
        "  def __init__(self):\n",
        "    super(Model, self).__init__()\n",
        "    self.l1 = nn.Linear(8,6) \n",
        "    self.l2 = nn.Linear(6,4) \n",
        "    self.l3 = nn.Linear(4,1)\n",
        "    self.sigmoid = nn.Sigmoid()\n",
        "\n",
        "  def forward(self, x):\n",
        "    out1 = self.sigmoid(self.l1(x))\n",
        "    out2 = self.sigmoid(self.l2(out1))\n",
        "    y_pred = self.sigmoid(self.l3(out2))\n",
        "    return y_pred\n",
        "\n",
        "model = Model()\n",
        "\n",
        "criterion = nn.BCELoss(reduction='mean')\n",
        "optimizer = optim.SGD(model.parameters(), lr=0.1)\n",
        "\n",
        "for epoch in range(100):\n",
        "  y_pred = model(x_data)\n",
        "  loss = criterion(y_pred, y_data)\n",
        "  print(epoch, loss.item())\n",
        "\n",
        "  optimizer.zero_grad()\n",
        "  loss.backward()\n",
        "  optimizer.step()"
      ],
      "execution_count": 15,
      "outputs": [
        {
          "output_type": "stream",
          "text": [
            "0 0.821410059928894\n",
            "1 0.8051272034645081\n",
            "2 0.7903003096580505\n",
            "3 0.776811420917511\n",
            "4 0.7645493745803833\n",
            "5 0.7534099221229553\n",
            "6 0.7432962656021118\n",
            "7 0.7341184020042419\n",
            "8 0.7257930040359497\n",
            "9 0.7182435989379883\n",
            "10 0.7113995552062988\n",
            "11 0.7051963210105896\n",
            "12 0.6995747685432434\n",
            "13 0.6944806575775146\n",
            "14 0.6898651719093323\n",
            "15 0.6856832504272461\n",
            "16 0.6818941831588745\n",
            "17 0.6784610152244568\n",
            "18 0.6753500699996948\n",
            "19 0.672531008720398\n",
            "20 0.6699761152267456\n",
            "21 0.6676605343818665\n",
            "22 0.6655614376068115\n",
            "23 0.6636584401130676\n",
            "24 0.6619329452514648\n",
            "25 0.6603682041168213\n",
            "26 0.6589491963386536\n",
            "27 0.6576619148254395\n",
            "28 0.6564939618110657\n",
            "29 0.6554343700408936\n",
            "30 0.6544727683067322\n",
            "31 0.6535999178886414\n",
            "32 0.6528075337409973\n",
            "33 0.6520881652832031\n",
            "34 0.6514348983764648\n",
            "35 0.6508416533470154\n",
            "36 0.6503027677536011\n",
            "37 0.6498132348060608\n",
            "38 0.6493684649467468\n",
            "39 0.6489642858505249\n",
            "40 0.648597002029419\n",
            "41 0.6482632160186768\n",
            "42 0.6479596495628357\n",
            "43 0.6476836800575256\n",
            "44 0.647432804107666\n",
            "45 0.6472047567367554\n",
            "46 0.6469971537590027\n",
            "47 0.646808385848999\n",
            "48 0.6466366648674011\n",
            "49 0.6464804410934448\n",
            "50 0.6463382244110107\n",
            "51 0.6462087631225586\n",
            "52 0.6460910439491272\n",
            "53 0.645983874797821\n",
            "54 0.645886242389679\n",
            "55 0.6457973718643188\n",
            "56 0.6457164883613586\n",
            "57 0.6456428170204163\n",
            "58 0.645575761795044\n",
            "59 0.6455145478248596\n",
            "60 0.6454588174819946\n",
            "61 0.6454080939292908\n",
            "62 0.6453618407249451\n",
            "63 0.6453196406364441\n",
            "64 0.645281195640564\n",
            "65 0.6452462077140808\n",
            "66 0.6452142596244812\n",
            "67 0.6451850533485413\n",
            "68 0.6451585292816162\n",
            "69 0.6451342701911926\n",
            "70 0.645112156867981\n",
            "71 0.6450918912887573\n",
            "72 0.6450734734535217\n",
            "73 0.6450566053390503\n",
            "74 0.6450412273406982\n",
            "75 0.6450271606445312\n",
            "76 0.6450142860412598\n",
            "77 0.6450024843215942\n",
            "78 0.6449918150901794\n",
            "79 0.6449819207191467\n",
            "80 0.6449728608131409\n",
            "81 0.6449646353721619\n",
            "82 0.6449570059776306\n",
            "83 0.6449501514434814\n",
            "84 0.6449437141418457\n",
            "85 0.6449379324913025\n",
            "86 0.6449325084686279\n",
            "87 0.6449275612831116\n",
            "88 0.6449230313301086\n",
            "89 0.6449187994003296\n",
            "90 0.6449149250984192\n",
            "91 0.6449113488197327\n",
            "92 0.64490807056427\n",
            "93 0.6449050307273865\n",
            "94 0.644902229309082\n",
            "95 0.6448995471000671\n",
            "96 0.6448971629142761\n",
            "97 0.6448947787284851\n",
            "98 0.6448928117752075\n",
            "99 0.6448908448219299\n"
          ],
          "name": "stdout"
        }
      ]
    },
    {
      "cell_type": "code",
      "metadata": {
        "colab": {
          "base_uri": "https://localhost:8080/"
        },
        "id": "rAblKNySh6QA",
        "outputId": "8792c5e3-7a36-48c3-dd9d-6c701e7a6024"
      },
      "source": [
        "import torch.nn.functional as fun\n",
        "\n",
        "class Model(torch.nn.Module):\n",
        "  def __init__(self):\n",
        "    super(Model, self).__init__()\n",
        "    self.l1 = torch.nn.Linear(8,6) \n",
        "    self.l2 = torch.nn.Linear(6,4) \n",
        "    self.l3 = torch.nn.Linear(4,1)\n",
        "    self.relu = fun.relu\n",
        "\n",
        "  def forward(self, x):\n",
        "    out1 = self.relu(self.l1(x))\n",
        "    out2 = self.relu(self.l2(out1))\n",
        "    y_pred = self.relu(self.l3(out2))\n",
        "    return y_pred\n",
        "\n",
        "model = Model()\n",
        "\n",
        "criterion = torch.nn.MSELoss(reduction='mean')\n",
        "optimizer = optim.SGD(model.parameters(), lr=0.1)\n",
        "\n",
        "for epoch in range(100):\n",
        "  y_pred = model(x_data)\n",
        "  loss = criterion(y_pred, y_data)\n",
        "  if (epoch % 10) == 0:  \n",
        "    print(f'Epoch: {epoch + 1}/100 | Loss: {loss.item():.4f}')\n",
        "\n",
        "  optimizer.zero_grad()\n",
        "  loss.backward()\n",
        "  optimizer.step()"
      ],
      "execution_count": 32,
      "outputs": [
        {
          "output_type": "stream",
          "text": [
            "Epoch: 1/100 | Loss: 0.6273\n",
            "Epoch: 11/100 | Loss: 0.2021\n",
            "Epoch: 21/100 | Loss: 0.1955\n",
            "Epoch: 31/100 | Loss: 0.1895\n",
            "Epoch: 41/100 | Loss: 0.1837\n",
            "Epoch: 51/100 | Loss: 0.1784\n",
            "Epoch: 61/100 | Loss: 0.1737\n",
            "Epoch: 71/100 | Loss: 0.1698\n",
            "Epoch: 81/100 | Loss: 0.1666\n",
            "Epoch: 91/100 | Loss: 0.1641\n"
          ],
          "name": "stdout"
        }
      ]
    },
    {
      "cell_type": "code",
      "metadata": {
        "id": "HAdgrw9ziqqM"
      },
      "source": [
        ""
      ],
      "execution_count": null,
      "outputs": []
    }
  ]
}