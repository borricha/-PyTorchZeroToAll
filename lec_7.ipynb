{
  "nbformat": 4,
  "nbformat_minor": 0,
  "metadata": {
    "colab": {
      "name": "lec_7.ipynb",
      "provenance": [],
      "collapsed_sections": [],
      "authorship_tag": "ABX9TyM8ed1ieWH64noL9dhF0o+b",
      "include_colab_link": true
    },
    "kernelspec": {
      "name": "python3",
      "display_name": "Python 3"
    },
    "language_info": {
      "name": "python"
    }
  },
  "cells": [
    {
      "cell_type": "markdown",
      "metadata": {
        "id": "view-in-github",
        "colab_type": "text"
      },
      "source": [
        "<a href=\"https://colab.research.google.com/github/borricha/-PyTorchZeroToAll/blob/main/lec_7.ipynb\" target=\"_parent\"><img src=\"https://colab.research.google.com/assets/colab-badge.svg\" alt=\"Open In Colab\"/></a>"
      ]
    },
    {
      "cell_type": "code",
      "metadata": {
        "colab": {
          "base_uri": "https://localhost:8080/"
        },
        "id": "nKt70yHxZAWC",
        "outputId": "cc8b5430-fed6-4fc8-8a22-c04e7eb82f25"
      },
      "source": [
        "import torch\n",
        "from torch.autograd import Variable\n",
        "from torch import nn, optim, from_numpy\n",
        "\n",
        "import numpy as np\n",
        "from google.colab import drive\n",
        "\n",
        "drive.mount('/content/gdrive')\n",
        "\n",
        "xy = np.loadtxt('/content/gdrive/My Drive/Colab Notebooks/diabetes.csv', delimiter=',', dtype=np.float32)\n",
        "x_data = from_numpy(xy[:, 0:-1])\n",
        "y_data = from_numpy(xy[:, [-1]])\n",
        "print(f'X\\'s shape: {x_data.shape} | Y\\'s shape: {y_data.shape}')\n"
      ],
      "execution_count": 11,
      "outputs": [
        {
          "output_type": "stream",
          "text": [
            "Mounted at /content/gdrive\n",
            "X's shape: torch.Size([759, 8]) | Y's shape: torch.Size([759, 1])\n"
          ],
          "name": "stdout"
        }
      ]
    },
    {
      "cell_type": "code",
      "metadata": {
        "colab": {
          "base_uri": "https://localhost:8080/"
        },
        "id": "oG0DShs0eNM_",
        "outputId": "ffb9b683-33af-4d94-a455-f3fae4d8618a"
      },
      "source": [
        "class Model(torch.nn.Module):\n",
        "  def __init__(self):\n",
        "    super(Model, self).__init__()\n",
        "    self.l1 = nn.Linear(8,6) \n",
        "    self.l2 = nn.Linear(6,4) \n",
        "    self.l3 = nn.Linear(4,1)\n",
        "    self.sigmoid = nn.Sigmoid()\n",
        "\n",
        "  def forward(self, x):\n",
        "    out1 = self.sigmoid(self.l1(x))\n",
        "    out2 = self.sigmoid(self.l2(out1))\n",
        "    y_pred = self.sigmoid(self.l3(out2))\n",
        "    return y_pred\n",
        "\n",
        "model = Model()\n",
        "\n",
        "criterion = nn.BCELoss(reduction='mean')\n",
        "optimizer = optim.SGD(model.parameters(), lr=0.1)\n",
        "\n",
        "for epoch in range(100):\n",
        "  y_pred = model(x_data)\n",
        "  loss = criterion(y_pred, y_data)\n",
        "  if (epoch % 10) == 0:  \n",
        "    print(f'Epoch: {epoch + 1}/100 | Loss: {loss.item():.4f}')\n",
        "\n",
        "  optimizer.zero_grad()\n",
        "  loss.backward()\n",
        "  optimizer.step()"
      ],
      "execution_count": 15,
      "outputs": [
        {
          "output_type": "stream",
          "text": [
            "Epoch: 1/100 | Loss: 0.6464\n",
            "Epoch: 11/100 | Loss: 0.6454\n",
            "Epoch: 21/100 | Loss: 0.6450\n",
            "Epoch: 31/100 | Loss: 0.6449\n",
            "Epoch: 41/100 | Loss: 0.6449\n",
            "Epoch: 51/100 | Loss: 0.6448\n",
            "Epoch: 61/100 | Loss: 0.6448\n",
            "Epoch: 71/100 | Loss: 0.6448\n",
            "Epoch: 81/100 | Loss: 0.6448\n",
            "Epoch: 91/100 | Loss: 0.6448\n"
          ],
          "name": "stdout"
        }
      ]
    },
    {
      "cell_type": "code",
      "metadata": {
        "id": "HAdgrw9ziqqM",
        "colab": {
          "base_uri": "https://localhost:8080/"
        },
        "outputId": "dcefe714-84f7-46ad-d8d1-7169eb46b935"
      },
      "source": [
        "class Model(torch.nn.Module):\n",
        "  def __init__(self):\n",
        "    super(Model, self).__init__()\n",
        "    self.l1 = nn.Linear(8,7) \n",
        "    self.l2 = nn.Linear(7,6) \n",
        "    self.l3 = nn.Linear(6,4) \n",
        "    self.l4 = nn.Linear(4,1)\n",
        "    self.sigmoid = nn.Sigmoid()\n",
        "\n",
        "  def forward(self, x):\n",
        "    out1 = self.sigmoid(self.l1(x))\n",
        "    out2 = self.sigmoid(self.l2(out1))\n",
        "    out3 = self.sigmoid(self.l3(out2))\n",
        "    y_pred = self.sigmoid(self.l4(out3))\n",
        "    return y_pred\n",
        "\n",
        "model = Model()\n",
        "\n",
        "criterion = nn.BCELoss(reduction='mean')\n",
        "optimizer = optim.SGD(model.parameters(), lr=0.1)\n",
        "\n",
        "for epoch in range(100):\n",
        "  y_pred = model(x_data)\n",
        "  loss = criterion(y_pred, y_data)\n",
        "  if (epoch % 10) == 0:  \n",
        "    print(f'Epoch: {epoch + 1}/100 | Loss: {loss.item():.4f}')\n",
        "\n",
        "  optimizer.zero_grad()\n",
        "  loss.backward()\n",
        "  optimizer.step()"
      ],
      "execution_count": 14,
      "outputs": [
        {
          "output_type": "stream",
          "text": [
            "Epoch: 1/100 | Loss: 0.7093\n",
            "Epoch: 11/100 | Loss: 0.6700\n",
            "Epoch: 21/100 | Loss: 0.6551\n",
            "Epoch: 31/100 | Loss: 0.6492\n",
            "Epoch: 41/100 | Loss: 0.6469\n",
            "Epoch: 51/100 | Loss: 0.6459\n",
            "Epoch: 61/100 | Loss: 0.6455\n",
            "Epoch: 71/100 | Loss: 0.6454\n",
            "Epoch: 81/100 | Loss: 0.6453\n",
            "Epoch: 91/100 | Loss: 0.6453\n"
          ],
          "name": "stdout"
        }
      ]
    },
    {
      "cell_type": "code",
      "metadata": {
        "colab": {
          "base_uri": "https://localhost:8080/"
        },
        "id": "rAblKNySh6QA",
        "outputId": "8792c5e3-7a36-48c3-dd9d-6c701e7a6024"
      },
      "source": [
        "import torch.nn.functional as fun\n",
        "\n",
        "class Model(torch.nn.Module):\n",
        "  def __init__(self):\n",
        "    super(Model, self).__init__()\n",
        "    self.l1 = torch.nn.Linear(8,6) \n",
        "    self.l2 = torch.nn.Linear(6,4) \n",
        "    self.l3 = torch.nn.Linear(4,1)\n",
        "    self.relu = fun.relu\n",
        "\n",
        "  def forward(self, x):\n",
        "    out1 = self.relu(self.l1(x))\n",
        "    out2 = self.relu(self.l2(out1))\n",
        "    y_pred = self.relu(self.l3(out2))\n",
        "    return y_pred\n",
        "\n",
        "model = Model()\n",
        "\n",
        "criterion = torch.nn.MSELoss(reduction='mean')\n",
        "optimizer = optim.SGD(model.parameters(), lr=0.1)\n",
        "\n",
        "for epoch in range(100):\n",
        "  y_pred = model(x_data)\n",
        "  loss = criterion(y_pred, y_data)\n",
        "  if (epoch % 10) == 0:  \n",
        "    print(f'Epoch: {epoch + 1}/100 | Loss: {loss.item():.4f}')\n",
        "\n",
        "  optimizer.zero_grad()\n",
        "  loss.backward()\n",
        "  optimizer.step()"
      ],
      "execution_count": null,
      "outputs": [
        {
          "output_type": "stream",
          "text": [
            "Epoch: 1/100 | Loss: 0.6273\n",
            "Epoch: 11/100 | Loss: 0.2021\n",
            "Epoch: 21/100 | Loss: 0.1955\n",
            "Epoch: 31/100 | Loss: 0.1895\n",
            "Epoch: 41/100 | Loss: 0.1837\n",
            "Epoch: 51/100 | Loss: 0.1784\n",
            "Epoch: 61/100 | Loss: 0.1737\n",
            "Epoch: 71/100 | Loss: 0.1698\n",
            "Epoch: 81/100 | Loss: 0.1666\n",
            "Epoch: 91/100 | Loss: 0.1641\n"
          ],
          "name": "stdout"
        }
      ]
    },
    {
      "cell_type": "code",
      "metadata": {
        "colab": {
          "base_uri": "https://localhost:8080/"
        },
        "id": "Xfqfeehqw025",
        "outputId": "f1f09aa6-cadf-49fc-92b0-9ef0e4b622c1"
      },
      "source": [
        "class Model(torch.nn.Module):\n",
        "  def __init__(self):\n",
        "    super(Model, self).__init__()\n",
        "    self.l1 = nn.Linear(8,7) \n",
        "    self.l2 = nn.Linear(7,6) \n",
        "    self.l3 = nn.Linear(6,5) \n",
        "    self.l4 = nn.Linear(5,3) \n",
        "    self.l5 = nn.Linear(3,1)\n",
        "    self.sigmoid = nn.Sigmoid()\n",
        "\n",
        "  def forward(self, x):\n",
        "    out1 = self.sigmoid(self.l1(x))\n",
        "    out2 = self.sigmoid(self.l2(out1))\n",
        "    out3 = self.sigmoid(self.l3(out2))\n",
        "    out4 = self.sigmoid(self.l4(out3))\n",
        "    y_pred = self.sigmoid(self.l5(out4))\n",
        "    return y_pred\n",
        "\n",
        "model = Model()\n",
        "\n",
        "criterion = nn.BCELoss(reduction='mean')\n",
        "optimizer = optim.SGD(model.parameters(), lr=0.1)\n",
        "\n",
        "for epoch in range(100):\n",
        "  y_pred = model(x_data)\n",
        "  loss = criterion(y_pred, y_data)\n",
        "  if (epoch % 10) == 0:  \n",
        "    print(f'Epoch: {epoch + 1}/100 | Loss: {loss.item():.4f}')\n",
        "\n",
        "  optimizer.zero_grad()\n",
        "  loss.backward()\n",
        "  optimizer.step()"
      ],
      "execution_count": 22,
      "outputs": [
        {
          "output_type": "stream",
          "text": [
            "Epoch: 1/100 | Loss: 0.6462\n",
            "Epoch: 11/100 | Loss: 0.6457\n",
            "Epoch: 21/100 | Loss: 0.6454\n",
            "Epoch: 31/100 | Loss: 0.6453\n",
            "Epoch: 41/100 | Loss: 0.6453\n",
            "Epoch: 51/100 | Loss: 0.6453\n",
            "Epoch: 61/100 | Loss: 0.6453\n",
            "Epoch: 71/100 | Loss: 0.6453\n",
            "Epoch: 81/100 | Loss: 0.6453\n",
            "Epoch: 91/100 | Loss: 0.6453\n"
          ],
          "name": "stdout"
        }
      ]
    },
    {
      "cell_type": "code",
      "metadata": {
        "colab": {
          "base_uri": "https://localhost:8080/"
        },
        "id": "qCXVJLxpyZNh",
        "outputId": "479e17b4-aab6-4e52-deb3-eb4c2cf0856d"
      },
      "source": [
        "class Model(torch.nn.Module):\n",
        "  def __init__(self):\n",
        "    super(Model, self).__init__()\n",
        "    self.l1 = nn.Linear(8,14) \n",
        "    self.l2 = nn.Linear(14,7) \n",
        "    self.l3 = nn.Linear(7,5) \n",
        "    self.l4 = nn.Linear(5,3) \n",
        "    self.l5 = nn.Linear(3,2)\n",
        "    self.l6 = nn.Linear(2,1)\n",
        "    self.sigmoid = nn.Sigmoid()\n",
        "\n",
        "  def forward(self, x):\n",
        "    out1 = self.sigmoid(self.l1(x))\n",
        "    out2 = self.sigmoid(self.l2(out1))\n",
        "    out3 = self.sigmoid(self.l3(out2))\n",
        "    out4 = self.sigmoid(self.l4(out3))\n",
        "    out5 = self.sigmoid(self.l5(out4))\n",
        "    y_pred = self.sigmoid(self.l6(out5))\n",
        "    return y_pred\n",
        "\n",
        "model = Model()\n",
        "\n",
        "criterion = nn.BCELoss(reduction='mean')\n",
        "optimizer = optim.SGD(model.parameters(), lr=0.1)\n",
        "\n",
        "for epoch in range(100):\n",
        "  y_pred = model(x_data)\n",
        "  loss = criterion(y_pred, y_data)\n",
        "  if (epoch % 10) == 0:  \n",
        "    print(f'Epoch: {epoch + 1}/100 | Loss: {loss.item():.4f}')\n",
        "\n",
        "  optimizer.zero_grad()\n",
        "  loss.backward()\n",
        "  optimizer.step()"
      ],
      "execution_count": 25,
      "outputs": [
        {
          "output_type": "stream",
          "text": [
            "Epoch: 1/100 | Loss: 0.8476\n",
            "Epoch: 11/100 | Loss: 0.7436\n",
            "Epoch: 21/100 | Loss: 0.6925\n",
            "Epoch: 31/100 | Loss: 0.6680\n",
            "Epoch: 41/100 | Loss: 0.6563\n",
            "Epoch: 51/100 | Loss: 0.6506\n",
            "Epoch: 61/100 | Loss: 0.6479\n",
            "Epoch: 71/100 | Loss: 0.6466\n",
            "Epoch: 81/100 | Loss: 0.6459\n",
            "Epoch: 91/100 | Loss: 0.6456\n"
          ],
          "name": "stdout"
        }
      ]
    },
    {
      "cell_type": "code",
      "metadata": {
        "id": "f2I6tK1i0OsZ"
      },
      "source": [
        ""
      ],
      "execution_count": null,
      "outputs": []
    }
  ]
}