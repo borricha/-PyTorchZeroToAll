{
  "nbformat": 4,
  "nbformat_minor": 0,
  "metadata": {
    "colab": {
      "name": "lec_8.ipynb",
      "provenance": [],
      "authorship_tag": "ABX9TyOcGPrdealxa2OV5v3YokRp",
      "include_colab_link": true
    },
    "kernelspec": {
      "name": "python3",
      "display_name": "Python 3"
    },
    "language_info": {
      "name": "python"
    }
  },
  "cells": [
    {
      "cell_type": "markdown",
      "metadata": {
        "id": "view-in-github",
        "colab_type": "text"
      },
      "source": [
        "<a href=\"https://colab.research.google.com/github/borricha/-PyTorchZeroToAll/blob/main/lec_8.ipynb\" target=\"_parent\"><img src=\"https://colab.research.google.com/assets/colab-badge.svg\" alt=\"Open In Colab\"/></a>"
      ]
    },
    {
      "cell_type": "code",
      "metadata": {
        "colab": {
          "base_uri": "https://localhost:8080/"
        },
        "id": "XFzi2R2t3bYJ",
        "outputId": "d82456d0-5552-46bb-b5ca-4ba0e58636a5"
      },
      "source": [
        "import torch\n",
        "import numpy as np\n",
        "from torch.autograd import Variable\n",
        "from torch.utils.data import Dataset, DataLoader\n",
        "from google.colab import drive\n",
        "drive.mount('/content/gdrive')\n",
        "\n",
        "class DiabetesDataset(Dataset):\n",
        "\n",
        "  def __init__(self):\n",
        "    xy = np.loadtxt('/content/gdrive/My Drive/Colab Notebooks/diabetes.csv', delimiter=',', dtype=np.float32)\n",
        "    self.len = xy.shape[0]\n",
        "    self.x_data = torch.from_numpy(xy[:, 0:-1])\n",
        "    self.y_data = torch.from_numpy(xy[:, [-1]])\n",
        "\n",
        "  def __getitem__(self,index):\n",
        "    return self.x_data[index], self.y_data[index]\n",
        "\n",
        "  def __len__(self):\n",
        "    return self.len\n",
        "\n",
        "dataset = DiabetesDataset()\n",
        "train_loader = DataLoader(dataset = dataset,\n",
        "                          batch_size = 32,\n",
        "                          shuffle = True,\n",
        "                          num_workers = 2)\n",
        "\n",
        "class Model(torch.nn.Module):\n",
        "  def __init__(self):\n",
        "    super(Model, self).__init__()\n",
        "    self.l1 = torch.nn.Linear(8,6) \n",
        "    self.l2 = torch.nn.Linear(6,4) \n",
        "    self.l3 = torch.nn.Linear(4,1)\n",
        "    self.sigmoid = torch.nn.Sigmoid()\n",
        "\n",
        "  def forward(self, x):\n",
        "    out1 = self.sigmoid(self.l1(x))\n",
        "    out2 = self.sigmoid(self.l2(out1))\n",
        "    y_pred = self.sigmoid(self.l3(out2))\n",
        "    return y_pred\n",
        "\n",
        "model = Model()\n",
        "\n",
        "criterion = torch.nn.BCELoss(reduction='mean')\n",
        "optimizer = torch.optim.SGD(model.parameters(), lr=0.1)\n",
        "\n",
        "for epoch in range(2):\n",
        "  for i, data in enumerate(train_loader, 0):\n",
        "    inputs, labels = data\n",
        "\n",
        "    inputs, lables = Variable(inputs), Variable(labels)\n",
        "\n",
        "    y_pred = model(inputs)\n",
        "    loss = criterion(y_pred, labels)\n",
        "    print(epoch,loss.item())\n",
        "\n",
        "    optimizer.zero_grad()\n",
        "    loss.backward()\n",
        "    optimizer.step()"
      ],
      "execution_count": 14,
      "outputs": [
        {
          "output_type": "stream",
          "text": [
            "Drive already mounted at /content/gdrive; to attempt to forcibly remount, call drive.mount(\"/content/gdrive\", force_remount=True).\n",
            "0 0.8401932716369629\n",
            "0 0.7745275497436523\n",
            "0 0.8264469504356384\n",
            "0 0.7571984529495239\n",
            "0 0.737551212310791\n",
            "0 0.7527874708175659\n",
            "0 0.7433714270591736\n",
            "0 0.69895339012146\n",
            "0 0.7051146626472473\n",
            "0 0.7023313045501709\n",
            "0 0.7077617645263672\n",
            "0 0.6971048712730408\n",
            "0 0.6884527802467346\n",
            "0 0.6915338039398193\n",
            "0 0.689520001411438\n",
            "0 0.6798450350761414\n",
            "0 0.6775832176208496\n",
            "0 0.6619727611541748\n",
            "0 0.6749609708786011\n",
            "0 0.6797091960906982\n",
            "0 0.6790490746498108\n",
            "0 0.6591170430183411\n",
            "0 0.6629423499107361\n",
            "0 0.6734462380409241\n",
            "1 0.6933777332305908\n",
            "1 0.6529251337051392\n",
            "1 0.667685866355896\n",
            "1 0.694614589214325\n",
            "1 0.6496034264564514\n",
            "1 0.6469823122024536\n",
            "1 0.6757093667984009\n",
            "1 0.6548458933830261\n",
            "1 0.6537433862686157\n",
            "1 0.6190356612205505\n",
            "1 0.6754220724105835\n",
            "1 0.6753498315811157\n",
            "1 0.6386167407035828\n",
            "1 0.59871506690979\n",
            "1 0.5506353974342346\n",
            "1 0.6148866415023804\n",
            "1 0.6615525484085083\n",
            "1 0.6777910590171814\n",
            "1 0.6932516098022461\n",
            "1 0.6772190928459167\n",
            "1 0.6153411269187927\n",
            "1 0.6934054493904114\n",
            "1 0.6302792429924011\n",
            "1 0.6252107620239258\n"
          ],
          "name": "stdout"
        }
      ]
    },
    {
      "cell_type": "code",
      "metadata": {
        "id": "GNmhXhGb5d5e"
      },
      "source": [
        ""
      ],
      "execution_count": 3,
      "outputs": []
    }
  ]
}